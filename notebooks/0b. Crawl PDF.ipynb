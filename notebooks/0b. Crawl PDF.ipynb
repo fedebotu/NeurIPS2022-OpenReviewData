{
 "cells": [
  {
   "cell_type": "markdown",
   "id": "cdcb8f3c",
   "metadata": {},
   "source": [
    "# Crawl all PDF files for text and statistics\n",
    "Here we scrape all the PDFs and extract text data and statistics from them"
   ]
  },
  {
   "cell_type": "code",
   "execution_count": 3,
   "id": "b15b9499",
   "metadata": {},
   "outputs": [
    {
     "name": "stdout",
     "output_type": "stream",
     "text": [
      "The autoreload extension is already loaded. To reload it, use:\n",
      "  %reload_ext autoreload\n"
     ]
    }
   ],
   "source": [
    "%load_ext autoreload\n",
    "%autoreload 2\n",
    "\n",
    "import os\n",
    "import time\n",
    "import pandas as pd\n",
    "import multiprocessing as mp\n",
    "from multiprocessing import Pool\n",
    "from tqdm import tqdm\n",
    "from tqdm.notebook import tqdm\n",
    "import requests\n",
    "from pathlib import Path\n",
    "from PyPDF2 import PdfReader\n"
   ]
  },
  {
   "cell_type": "markdown",
   "id": "ba524d57",
   "metadata": {},
   "source": [
    "## Read submission list\n",
    "Here we scrape the _notes_ , (list of all submissions) using OpenReview's API, way faster than Selenium-based scraping.\n"
   ]
  },
  {
   "cell_type": "code",
   "execution_count": 4,
   "id": "37d02c61",
   "metadata": {},
   "outputs": [],
   "source": [
    "DATA_PATH = '../data/'\n",
    "venue = 'NeurIPS.cc/2022/Conference'\n",
    "venue_short = 'neurips2022'\n",
    "date = time.strftime(\"%Y%m%d\")\n",
    "\n",
    "# Read hdf5 file\n",
    "df = pd.read_hdf(DATA_PATH + f'{venue_short}_data_full_{date}.h5', key='df')"
   ]
  },
  {
   "cell_type": "markdown",
   "id": "5841d6a3",
   "metadata": {},
   "source": [
    "## Download PDFs and crawl data"
   ]
  },
  {
   "cell_type": "code",
   "execution_count": 5,
   "id": "554052ea",
   "metadata": {},
   "outputs": [],
   "source": [
    "# Download pdfs from df['content.pdf']\n",
    "def download_pdf(url, filename):\n",
    "    r = requests.get(url, allow_redirects=True)\n",
    "    open(filename, 'wb').write(r.content)\n",
    "\n",
    "\n",
    "def get_pdf_data(id, save_dir='temp/'):\n",
    "    try:\n",
    "        # Make temp directory if not exis\n",
    "        save_dir = Path(save_dir)\n",
    "        save_dir.mkdir(parents=True, exist_ok=True)\n",
    "        BASE_URL = 'https://openreview.net/pdf?id='\n",
    "        filename = save_dir / (id + '.pdf')\n",
    "        download_pdf(BASE_URL + id, filename)\n",
    "\n",
    "        # Read pdf\n",
    "        reader = PdfReader(filename)\n",
    "        number_of_pages = len(reader.pages)\n",
    "        file_size = os.stat(filename).st_size\n",
    "        text_all = ''\n",
    "        num_characters = 0\n",
    "        for page in reader.pages:\n",
    "            text = page.extract_text()\n",
    "            # text = re.sub(r'[^a-zA-Z0-9 ]', '', text)\n",
    "            text_all += text\n",
    "            num_characters += len(text)\n",
    "\n",
    "        # Delete pdf\n",
    "        os.remove(filename)\n",
    "        return {'id': id, 'text': text_all, 'num_characters': num_characters, 'num_pages': number_of_pages, 'file_size': file_size}\n",
    "    except:\n",
    "        return {'id': id, 'text': '', 'num_characters': 0, 'num_pages': 0, 'file_size': 0}\n",
    "\n",
    "\n",
    "# Use multiprocessing to download pdfs\n",
    "def get_pdf_multi(ids, ratio=0.8):\n",
    "    num_processes = int(ratio*mp.cpu_count())\n",
    "    with Pool(num_processes) as p:\n",
    "        data = list(tqdm(p.imap(get_pdf_data, ids), total=len(ids)))\n",
    "    return data"
   ]
  },
  {
   "cell_type": "code",
   "execution_count": 6,
   "id": "b9f47ca4",
   "metadata": {},
   "outputs": [
    {
     "data": {
      "application/vnd.jupyter.widget-view+json": {
       "model_id": "483121382d1c4849b75731914dc0da4d",
       "version_major": 2,
       "version_minor": 0
      },
      "text/plain": [
       "  0%|          | 0/2824 [00:00<?, ?it/s]"
      ]
     },
     "metadata": {},
     "output_type": "display_data"
    },
    {
     "name": "stderr",
     "output_type": "stream",
     "text": [
      "FloatObject (b'0.00-28544242') invalid; use 0.0 instead\n",
      "FloatObject (b'0.00-17013554') invalid; use 0.0 instead\n",
      "FloatObject (b'0.000000000-2910383') invalid; use 0.0 instead\n",
      " impossible to decode XFormObject /Im9\n",
      " impossible to decode XFormObject /Im14\n",
      "FloatObject (b'0.00-5377789') invalid; use 0.0 instead\n",
      "FloatObject (b'0.00-5377789') invalid; use 0.0 instead\n",
      "FloatObject (b'0.00-5377789') invalid; use 0.0 instead\n",
      "unknown widths : \n",
      "[0, IndirectObject(1146, 0, 140246656300128)]\n",
      "unknown widths : \n",
      "[0, IndirectObject(1148, 0, 140246656300128)]\n",
      "unknown widths : \n",
      "[0, IndirectObject(1150, 0, 140246656300128)]\n",
      "unknown widths : \n",
      "[0, IndirectObject(1152, 0, 140246656300128)]\n",
      "FloatObject (b'0.00-6361322') invalid; use 0.0 instead\n",
      "FloatObject (b'0.00-6361322') invalid; use 0.0 instead\n",
      "FloatObject (b'0.00-82034426') invalid; use 0.0 instead\n",
      "FloatObject (b'0.00-5291005') invalid; use 0.0 instead\n",
      "FloatObject (b'0.00-82034426') invalid; use 0.0 instead\n",
      "FloatObject (b'0.00-5291005') invalid; use 0.0 instead\n",
      "FloatObject (b'0.00-82034426') invalid; use 0.0 instead\n",
      "FloatObject (b'0.00-5291005') invalid; use 0.0 instead\n",
      "FloatObject (b'0.00-82034426') invalid; use 0.0 instead\n",
      "FloatObject (b'0.00-5291005') invalid; use 0.0 instead\n",
      "FloatObject (b'0.00-82034426') invalid; use 0.0 instead\n",
      "FloatObject (b'0.00-82034426') invalid; use 0.0 instead\n",
      "FloatObject (b'0.00-54674677') invalid; use 0.0 instead\n",
      "FloatObject (b'0.00-82034426') invalid; use 0.0 instead\n",
      "FloatObject (b'0.00-5291005') invalid; use 0.0 instead\n",
      "FloatObject (b'0.00-6361322') invalid; use 0.0 instead\n",
      "FloatObject (b'0.00-82034426') invalid; use 0.0 instead\n",
      "FloatObject (b'0.00-54674677') invalid; use 0.0 instead\n",
      "FloatObject (b'0.00-5291005') invalid; use 0.0 instead\n",
      "FloatObject (b'0.00-6361322') invalid; use 0.0 instead\n",
      "FloatObject (b'0.00-82034426') invalid; use 0.0 instead\n",
      "FloatObject (b'0.00-5291005') invalid; use 0.0 instead\n",
      "FloatObject (b'0.00-82034426') invalid; use 0.0 instead\n",
      "FloatObject (b'0.00-5291005') invalid; use 0.0 instead\n",
      "FloatObject (b'0.00-82034426') invalid; use 0.0 instead\n",
      "FloatObject (b'0.00-5291005') invalid; use 0.0 instead\n",
      "FloatObject (b'0.00-82034426') invalid; use 0.0 instead\n",
      "FloatObject (b'0.00-5291005') invalid; use 0.0 instead\n",
      "FloatObject (b'0.00-82034426') invalid; use 0.0 instead\n",
      "FloatObject (b'0.00-82034426') invalid; use 0.0 instead\n",
      "FloatObject (b'0.00-54674677') invalid; use 0.0 instead\n",
      "FloatObject (b'0.00-82034426') invalid; use 0.0 instead\n",
      "FloatObject (b'0.00-5291005') invalid; use 0.0 instead\n",
      "FloatObject (b'0.00-82034426') invalid; use 0.0 instead\n",
      "FloatObject (b'0.00-54674677') invalid; use 0.0 instead\n",
      "FloatObject (b'0.00-5291005') invalid; use 0.0 instead\n",
      "FloatObject (b'0.00-82034426') invalid; use 0.0 instead\n",
      "FloatObject (b'0.00-6361322') invalid; use 0.0 instead\n",
      "FloatObject (b'0.00-6361322') invalid; use 0.0 instead\n",
      "FloatObject (b'0.00-82034426') invalid; use 0.0 instead\n",
      "FloatObject (b'0.00-5291005') invalid; use 0.0 instead\n",
      "FloatObject (b'0.00-82034426') invalid; use 0.0 instead\n",
      "FloatObject (b'0.00-5291005') invalid; use 0.0 instead\n",
      "FloatObject (b'0.00-82034426') invalid; use 0.0 instead\n",
      "FloatObject (b'0.00-5291005') invalid; use 0.0 instead\n",
      "FloatObject (b'0.00-82034426') invalid; use 0.0 instead\n",
      "FloatObject (b'0.00-5291005') invalid; use 0.0 instead\n",
      "FloatObject (b'0.00-82034426') invalid; use 0.0 instead\n",
      "FloatObject (b'0.00-82034426') invalid; use 0.0 instead\n",
      "FloatObject (b'0.00-54674677') invalid; use 0.0 instead\n",
      "FloatObject (b'0.00-82034426') invalid; use 0.0 instead\n",
      "FloatObject (b'0.00-5291005') invalid; use 0.0 instead\n",
      "FloatObject (b'0.00-82034426') invalid; use 0.0 instead\n",
      "FloatObject (b'0.00-54674677') invalid; use 0.0 instead\n",
      "FloatObject (b'0.00-5291005') invalid; use 0.0 instead\n",
      "FloatObject (b'0.00-82034426') invalid; use 0.0 instead\n",
      "FloatObject (b'0.00-2781641') invalid; use 0.0 instead\n",
      "FloatObject (b'0.00-46425252') invalid; use 0.0 instead\n",
      "FloatObject (b'0.00-46425252') invalid; use 0.0 instead\n",
      "FloatObject (b'0.00-20') invalid; use 0.0 instead\n",
      "FloatObject (b'0.00-20') invalid; use 0.0 instead\n",
      "FloatObject (b'0.00-20') invalid; use 0.0 instead\n",
      "FloatObject (b'0.00-20') invalid; use 0.0 instead\n",
      "FloatObject (b'0.00-20') invalid; use 0.0 instead\n",
      "/home/botu/.local/lib/python3.10/site-packages/PyPDF2/_cmap.py:142: PdfReadWarning: Advanced encoding /StandardEncoding not implemented yet\n",
      "  warnings.warn(\n",
      "FloatObject (b'0.0000-62992126') invalid; use 0.0 instead\n",
      "FloatObject (b'0.000-44541444') invalid; use 0.0 instead\n",
      "FloatObject (b'0.000-44541444') invalid; use 0.0 instead\n",
      "FloatObject (b'0.000-44541444') invalid; use 0.0 instead\n",
      "FloatObject (b'0.00-7109845') invalid; use 0.0 instead\n",
      "FloatObject (b'0.00-7109845') invalid; use 0.0 instead\n",
      "FloatObject (b'0.00-8038583') invalid; use 0.0 instead\n",
      "FloatObject (b'0.00-47573735') invalid; use 0.0 instead\n",
      "FloatObject (b'0.00-7109845') invalid; use 0.0 instead\n",
      "FloatObject (b'0.00-7109845') invalid; use 0.0 instead\n",
      "FloatObject (b'0.00-8038583') invalid; use 0.0 instead\n",
      "FloatObject (b'0.00-4943153') invalid; use 0.0 instead\n",
      "FloatObject (b'0.00-7109845') invalid; use 0.0 instead\n",
      "FloatObject (b'0.00-7109845') invalid; use 0.0 instead\n",
      "FloatObject (b'0.00-8038583') invalid; use 0.0 instead\n",
      "FloatObject (b'0.00-4943153') invalid; use 0.0 instead\n",
      "FloatObject (b'0.00-7109845') invalid; use 0.0 instead\n",
      "FloatObject (b'0.00-7109845') invalid; use 0.0 instead\n",
      "FloatObject (b'0.00-8038583') invalid; use 0.0 instead\n",
      "FloatObject (b'0.00-4943153') invalid; use 0.0 instead\n",
      "FloatObject (b'0.00-5438476') invalid; use 0.0 instead\n",
      "FloatObject (b'0.00-5173305') invalid; use 0.0 instead\n",
      "FloatObject (b'0.00-7109845') invalid; use 0.0 instead\n",
      "FloatObject (b'0.00-9341425') invalid; use 0.0 instead\n",
      "FloatObject (b'0.00-7109845') invalid; use 0.0 instead\n",
      "FloatObject (b'0.00-47520982') invalid; use 0.0 instead\n",
      "FloatObject (b'0.00-7109845') invalid; use 0.0 instead\n",
      "FloatObject (b'0.00-7109845') invalid; use 0.0 instead\n",
      "FloatObject (b'0.00-7109845') invalid; use 0.0 instead\n",
      "FloatObject (b'0.00-7109845') invalid; use 0.0 instead\n",
      "FloatObject (b'0.00-17716535') invalid; use 0.0 instead\n",
      "FloatObject (b'0.00-17716535') invalid; use 0.0 instead\n",
      "FloatObject (b'0.00-41727515') invalid; use 0.0 instead\n",
      "FloatObject (b'0.00-6626904') invalid; use 0.0 instead\n",
      "FloatObject (b'0.00-6626904') invalid; use 0.0 instead\n",
      "FloatObject (b'0.00-6626904') invalid; use 0.0 instead\n",
      "FloatObject (b'0.00-6626904') invalid; use 0.0 instead\n",
      "FloatObject (b'0.00-49578573') invalid; use 0.0 instead\n",
      "FloatObject (b'0.00-49578573') invalid; use 0.0 instead\n",
      "FloatObject (b'0.00-49578573') invalid; use 0.0 instead\n",
      "FloatObject (b'0.00-49578573') invalid; use 0.0 instead\n"
     ]
    }
   ],
   "source": [
    "# Get pdf data\n",
    "data = get_pdf_multi(df['id'].values.tolist(), ratio=.8)"
   ]
  },
  {
   "cell_type": "code",
   "execution_count": 9,
   "id": "ea60ea22",
   "metadata": {},
   "outputs": [
    {
     "data": {
      "text/html": [
       "<div>\n",
       "<style scoped>\n",
       "    .dataframe tbody tr th:only-of-type {\n",
       "        vertical-align: middle;\n",
       "    }\n",
       "\n",
       "    .dataframe tbody tr th {\n",
       "        vertical-align: top;\n",
       "    }\n",
       "\n",
       "    .dataframe thead th {\n",
       "        text-align: right;\n",
       "    }\n",
       "</style>\n",
       "<table border=\"1\" class=\"dataframe\">\n",
       "  <thead>\n",
       "    <tr style=\"text-align: right;\">\n",
       "      <th></th>\n",
       "      <th>id</th>\n",
       "      <th>text</th>\n",
       "      <th>num_characters</th>\n",
       "      <th>num_pages</th>\n",
       "      <th>file_size</th>\n",
       "    </tr>\n",
       "  </thead>\n",
       "  <tbody>\n",
       "    <tr>\n",
       "      <th>2819</th>\n",
       "      <td>PCQyUvAmKs</td>\n",
       "      <td>Don’t Pour Cereal into Coffee: Differentiable\\...</td>\n",
       "      <td>72867</td>\n",
       "      <td>22</td>\n",
       "      <td>1779352</td>\n",
       "    </tr>\n",
       "    <tr>\n",
       "      <th>2820</th>\n",
       "      <td>tIqzLFf3kk</td>\n",
       "      <td>Rank Diminishing in Deep Neural Networks\\nRuil...</td>\n",
       "      <td>79795</td>\n",
       "      <td>28</td>\n",
       "      <td>3910141</td>\n",
       "    </tr>\n",
       "    <tr>\n",
       "      <th>2821</th>\n",
       "      <td>k7xZKpYebXL</td>\n",
       "      <td>A Lower Bound of Hash Codes’ Performance\\nXiao...</td>\n",
       "      <td>43848</td>\n",
       "      <td>13</td>\n",
       "      <td>2032842</td>\n",
       "    </tr>\n",
       "    <tr>\n",
       "      <th>2822</th>\n",
       "      <td>yam42JWePu</td>\n",
       "      <td>Fine-Grained Semantically Aligned\\nVision-Lang...</td>\n",
       "      <td>84088</td>\n",
       "      <td>23</td>\n",
       "      <td>6930310</td>\n",
       "    </tr>\n",
       "    <tr>\n",
       "      <th>2823</th>\n",
       "      <td>FurHLDnmC5v</td>\n",
       "      <td>Sample Complexity of Learning Heuristic Functi...</td>\n",
       "      <td>49050</td>\n",
       "      <td>13</td>\n",
       "      <td>464242</td>\n",
       "    </tr>\n",
       "  </tbody>\n",
       "</table>\n",
       "</div>"
      ],
      "text/plain": [
       "               id                                               text  \\\n",
       "2819   PCQyUvAmKs  Don’t Pour Cereal into Coffee: Differentiable\\...   \n",
       "2820   tIqzLFf3kk  Rank Diminishing in Deep Neural Networks\\nRuil...   \n",
       "2821  k7xZKpYebXL  A Lower Bound of Hash Codes’ Performance\\nXiao...   \n",
       "2822   yam42JWePu  Fine-Grained Semantically Aligned\\nVision-Lang...   \n",
       "2823  FurHLDnmC5v  Sample Complexity of Learning Heuristic Functi...   \n",
       "\n",
       "      num_characters  num_pages  file_size  \n",
       "2819           72867         22    1779352  \n",
       "2820           79795         28    3910141  \n",
       "2821           43848         13    2032842  \n",
       "2822           84088         23    6930310  \n",
       "2823           49050         13     464242  "
      ]
     },
     "execution_count": 9,
     "metadata": {},
     "output_type": "execute_result"
    }
   ],
   "source": [
    "data = pd.DataFrame(data)\n",
    "data.tail()"
   ]
  },
  {
   "cell_type": "markdown",
   "id": "4497067d",
   "metadata": {},
   "source": [
    "## Save dataset as `hdf5` file"
   ]
  },
  {
   "cell_type": "code",
   "execution_count": 10,
   "id": "c666c1ad",
   "metadata": {},
   "outputs": [],
   "source": [
    "data.to_hdf(DATA_PATH + f'{venue_short}_pdf_data_{time.strftime(\"%Y%m%d\")}.h5', key='df', mode='a')"
   ]
  }
 ],
 "metadata": {
  "kernelspec": {
   "display_name": "Python 2.7.12 64-bit",
   "language": "python",
   "name": "python3"
  },
  "language_info": {
   "codemirror_mode": {
    "name": "ipython",
    "version": 3
   },
   "file_extension": ".py",
   "mimetype": "text/x-python",
   "name": "python",
   "nbconvert_exporter": "python",
   "pygments_lexer": "ipython3",
   "version": "3.10.6"
  },
  "vscode": {
   "interpreter": {
    "hash": "767d51c1340bd893661ea55ea3124f6de3c7a262a8b4abca0554b478b1e2ff90"
   }
  }
 },
 "nbformat": 4,
 "nbformat_minor": 5
}
